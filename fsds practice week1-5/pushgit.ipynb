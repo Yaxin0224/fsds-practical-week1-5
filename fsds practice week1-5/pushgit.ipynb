{
 "cells": [
  {
   "cell_type": "code",
   "execution_count": 1,
   "id": "4035412a-9022-4be4-a975-d1f016f7e639",
   "metadata": {},
   "outputs": [
    {
     "data": {
      "text/plain": [
       "'Hello World!'"
      ]
     },
     "execution_count": 1,
     "metadata": {},
     "output_type": "execute_result"
    }
   ],
   "source": [
    "\"Hello World!\""
   ]
  },
  {
   "cell_type": "code",
   "execution_count": 1,
   "id": "19c16add-33af-4738-8cf6-2017f9c7f5cc",
   "metadata": {},
   "outputs": [],
   "source": [
    "x=\"2\""
   ]
  },
  {
   "cell_type": "code",
   "execution_count": 2,
   "id": "a51367b8-a1e1-46cc-9dcb-0d2584a55978",
   "metadata": {},
   "outputs": [],
   "source": [
    "y=z=2"
   ]
  },
  {
   "cell_type": "code",
   "execution_count": 3,
   "id": "bc79dbd5-b997-480e-affa-1b45c43d232c",
   "metadata": {},
   "outputs": [
    {
     "name": "stdout",
     "output_type": "stream",
     "text": [
      "4\n"
     ]
    }
   ],
   "source": [
    "print(y*z)"
   ]
  },
  {
   "cell_type": "code",
   "execution_count": 4,
   "id": "08d2c9cf-c39d-4c42-92bf-d0ac9e451e65",
   "metadata": {},
   "outputs": [
    {
     "name": "stdout",
     "output_type": "stream",
     "text": [
      "22\n"
     ]
    }
   ],
   "source": [
    "print(x*y)"
   ]
  },
  {
   "cell_type": "code",
   "execution_count": 5,
   "id": "5b1a2bab-60d6-4e16-8fa6-6977ce4105b4",
   "metadata": {},
   "outputs": [
    {
     "name": "stdout",
     "output_type": "stream",
     "text": [
      "22\n"
     ]
    }
   ],
   "source": [
    "print(x+x)"
   ]
  },
  {
   "cell_type": "code",
   "execution_count": 6,
   "id": "f7ad435b-87c7-452b-b373-fdc1f1848d97",
   "metadata": {},
   "outputs": [
    {
     "name": "stdout",
     "output_type": "stream",
     "text": [
      "16\n"
     ]
    }
   ],
   "source": [
    "print((y+z)**z)"
   ]
  },
  {
   "cell_type": "code",
   "execution_count": 7,
   "id": "4dc4b961-1dfa-4bd6-a895-3553e919c65c",
   "metadata": {},
   "outputs": [
    {
     "name": "stdout",
     "output_type": "stream",
     "text": [
      "0.5\n"
     ]
    }
   ],
   "source": [
    "print(y/(y+z))"
   ]
  },
  {
   "cell_type": "code",
   "execution_count": 8,
   "id": "4aa481e7-6c01-454b-803f-2ef55d05cd52",
   "metadata": {},
   "outputs": [
    {
     "name": "stdout",
     "output_type": "stream",
     "text": [
      "<class 'str'>\n"
     ]
    }
   ],
   "source": [
    "print( type(x * y) ) "
   ]
  },
  {
   "cell_type": "code",
   "execution_count": 9,
   "id": "d8ff8034-45ff-4d49-baa9-f2a7344b6790",
   "metadata": {},
   "outputs": [
    {
     "name": "stdout",
     "output_type": "stream",
     "text": [
      "<class 'int'>\n"
     ]
    }
   ],
   "source": [
    "print( type(y * z) ) "
   ]
  },
  {
   "cell_type": "code",
   "execution_count": 10,
   "id": "33419452-9e7d-4b3c-b867-6f1ac9fec0fe",
   "metadata": {},
   "outputs": [
    {
     "name": "stdout",
     "output_type": "stream",
     "text": [
      "<class 'int'>\n"
     ]
    }
   ],
   "source": [
    "print( type((y+z)**z) )"
   ]
  },
  {
   "cell_type": "code",
   "execution_count": 11,
   "id": "7158b015-67c5-40a3-9211-6959f035db83",
   "metadata": {},
   "outputs": [
    {
     "name": "stdout",
     "output_type": "stream",
     "text": [
      "<class 'float'>\n"
     ]
    }
   ],
   "source": [
    "print( type(y/(y+z)) ) "
   ]
  },
  {
   "cell_type": "code",
   "execution_count": 12,
   "id": "50ab8403-1e0c-4f89-97d4-ebe06d0aef47",
   "metadata": {},
   "outputs": [
    {
     "ename": "NameError",
     "evalue": "name 'w' is not defined",
     "output_type": "error",
     "traceback": [
      "\u001b[0;31m---------------------------------------------------------------------------\u001b[0m",
      "\u001b[0;31mNameError\u001b[0m                                 Traceback (most recent call last)",
      "Cell \u001b[0;32mIn[12], line 1\u001b[0m\n\u001b[0;32m----> 1\u001b[0m x\u001b[38;5;241m=\u001b[39m\u001b[38;5;241m1\u001b[39m\u001b[38;5;241m+\u001b[39m(\u001b[43mw\u001b[49m\u001b[38;5;241m*\u001b[39m\u001b[38;5;241m3\u001b[39m)\u001b[38;5;241m/\u001b[39m\u001b[38;5;241m4\u001b[39m\n",
      "\u001b[0;31mNameError\u001b[0m: name 'w' is not defined"
     ]
    }
   ],
   "source": [
    "x=1+(w*3)/4"
   ]
  },
  {
   "cell_type": "code",
   "execution_count": 13,
   "id": "27e950b4-362e-44f2-a861-4eaffce5ab4a",
   "metadata": {},
   "outputs": [],
   "source": [
    "x=1+(2*3)/4"
   ]
  },
  {
   "cell_type": "code",
   "execution_count": 14,
   "id": "aac031cd-f4e8-49db-9d65-e6efab79d708",
   "metadata": {},
   "outputs": [
    {
     "name": "stdout",
     "output_type": "stream",
     "text": [
      "2.5\n"
     ]
    }
   ],
   "source": [
    "print(x)"
   ]
  },
  {
   "cell_type": "code",
   "execution_count": 15,
   "id": "11df615f-0eb6-4c98-bd2f-aaab0025d177",
   "metadata": {},
   "outputs": [],
   "source": [
    "y=(1+2)*(3/4)"
   ]
  },
  {
   "cell_type": "code",
   "execution_count": 16,
   "id": "caa0cc2d-5bcf-4afb-ad01-da4fc2c005e4",
   "metadata": {},
   "outputs": [
    {
     "name": "stdout",
     "output_type": "stream",
     "text": [
      "2.25\n"
     ]
    }
   ],
   "source": [
    "print(y)"
   ]
  },
  {
   "cell_type": "code",
   "execution_count": 17,
   "id": "7a781845-c862-4914-b762-284558c58fd6",
   "metadata": {},
   "outputs": [],
   "source": [
    "z=1+2*(3/4)"
   ]
  },
  {
   "cell_type": "code",
   "execution_count": 18,
   "id": "d7d5618c-a957-4620-8729-1b4adee50948",
   "metadata": {},
   "outputs": [
    {
     "name": "stdout",
     "output_type": "stream",
     "text": [
      "2.5\n"
     ]
    }
   ],
   "source": [
    "print(z)"
   ]
  },
  {
   "cell_type": "code",
   "execution_count": 19,
   "id": "25c5704c-6045-4483-831d-e9101ecfca23",
   "metadata": {},
   "outputs": [],
   "source": [
    "x=10"
   ]
  },
  {
   "cell_type": "code",
   "execution_count": 20,
   "id": "26a6ba93-8e9f-47af-9239-6b7f0f58386e",
   "metadata": {},
   "outputs": [],
   "source": [
    "y=3"
   ]
  },
  {
   "cell_type": "code",
   "execution_count": 21,
   "id": "2d6179dd-d192-4d68-82af-ccc49e3109d6",
   "metadata": {},
   "outputs": [
    {
     "name": "stdout",
     "output_type": "stream",
     "text": [
      "1\n"
     ]
    }
   ],
   "source": [
    "print(x%y)"
   ]
  },
  {
   "cell_type": "code",
   "execution_count": 22,
   "id": "0d05b0ba-345e-4445-984c-daa026a290a9",
   "metadata": {},
   "outputs": [
    {
     "name": "stdout",
     "output_type": "stream",
     "text": [
      "13\n"
     ]
    }
   ],
   "source": [
    "print(x+y)"
   ]
  },
  {
   "cell_type": "code",
   "execution_count": 23,
   "id": "0a70469d-8be3-4e4c-886c-254b9709eaff",
   "metadata": {},
   "outputs": [
    {
     "name": "stdout",
     "output_type": "stream",
     "text": [
      "False\n"
     ]
    }
   ],
   "source": [
    "print(x==y)"
   ]
  },
  {
   "cell_type": "code",
   "execution_count": 24,
   "id": "31acb5b7-183f-42ba-b1f8-78da7376555e",
   "metadata": {},
   "outputs": [
    {
     "name": "stdout",
     "output_type": "stream",
     "text": [
      "1000\n"
     ]
    }
   ],
   "source": [
    "print( x ** y ) "
   ]
  },
  {
   "cell_type": "code",
   "execution_count": 25,
   "id": "3c9f0c6e-8a21-4079-86d4-24ddaf3a8f98",
   "metadata": {},
   "outputs": [],
   "source": [
    "from math import pi\n",
    "v = 14137\n",
    "r = ((3 * v) / (4 * pi))**(1/3)"
   ]
  },
  {
   "cell_type": "code",
   "execution_count": 26,
   "id": "1bb73afe-ad1c-4407-8e2a-38774876c866",
   "metadata": {},
   "outputs": [
    {
     "name": "stdout",
     "output_type": "stream",
     "text": [
      "3. 15 cm\n"
     ]
    }
   ],
   "source": [
    "print(\"3. \" + f\"{r:0.0f} cm\")"
   ]
  },
  {
   "cell_type": "code",
   "execution_count": 27,
   "id": "28c5387c-9aff-4533-bf2b-6d906e60df03",
   "metadata": {},
   "outputs": [
    {
     "name": "stdout",
     "output_type": "stream",
     "text": [
      "3. 15 cm\n"
     ]
    }
   ],
   "source": [
    "print(\"3. \" + f\"{r:0.00f} cm\")"
   ]
  },
  {
   "cell_type": "code",
   "execution_count": 28,
   "id": "2284bcd5-b4e4-47af-a9cd-4d86c7aa558f",
   "metadata": {},
   "outputs": [
    {
     "name": "stdout",
     "output_type": "stream",
     "text": [
      "3. 15 cm\n"
     ]
    }
   ],
   "source": [
    "from math import pi\n",
    "v = 14137\n",
    "r = ((3 * v) / (4 * pi))**(1/3)\n",
    "print(\"3. \" + f\"{r:0.00f} cm\")"
   ]
  },
  {
   "cell_type": "code",
   "execution_count": 29,
   "id": "230715b5-0f36-4d56-a92f-d997912b2cd7",
   "metadata": {},
   "outputs": [
    {
     "ename": "NameError",
     "evalue": "name 'tpye' is not defined",
     "output_type": "error",
     "traceback": [
      "\u001b[0;31m---------------------------------------------------------------------------\u001b[0m",
      "\u001b[0;31mNameError\u001b[0m                                 Traceback (most recent call last)",
      "Cell \u001b[0;32mIn[29], line 1\u001b[0m\n\u001b[0;32m----> 1\u001b[0m \u001b[38;5;28mprint\u001b[39m(\u001b[43mtpye\u001b[49m(r))\n",
      "\u001b[0;31mNameError\u001b[0m: name 'tpye' is not defined"
     ]
    }
   ],
   "source": [
    "print(tpye(r))"
   ]
  },
  {
   "cell_type": "code",
   "execution_count": 30,
   "id": "eca3467d-5257-4c59-87e9-f4afa93181b1",
   "metadata": {},
   "outputs": [
    {
     "ename": "NameError",
     "evalue": "name 'tpye' is not defined",
     "output_type": "error",
     "traceback": [
      "\u001b[0;31m---------------------------------------------------------------------------\u001b[0m",
      "\u001b[0;31mNameError\u001b[0m                                 Traceback (most recent call last)",
      "Cell \u001b[0;32mIn[30], line 1\u001b[0m\n\u001b[0;32m----> 1\u001b[0m (\u001b[43mtpye\u001b[49m(r))\n",
      "\u001b[0;31mNameError\u001b[0m: name 'tpye' is not defined"
     ]
    }
   ],
   "source": [
    "(tpye(r))"
   ]
  },
  {
   "cell_type": "code",
   "execution_count": 31,
   "id": "396a95e3-da2c-4f64-96a6-011417a1c63d",
   "metadata": {},
   "outputs": [
    {
     "name": "stdout",
     "output_type": "stream",
     "text": [
      "<class 'float'>\n"
     ]
    }
   ],
   "source": [
    "print(type(r))"
   ]
  },
  {
   "cell_type": "code",
   "execution_count": null,
   "id": "6319acc0-7c75-4ce9-9854-6efbd07dad4b",
   "metadata": {},
   "outputs": [],
   "source": []
  }
 ],
 "metadata": {
  "kernelspec": {
   "display_name": "Python (base)",
   "language": "python",
   "name": "base"
  },
  "language_info": {
   "codemirror_mode": {
    "name": "ipython",
    "version": 3
   },
   "file_extension": ".py",
   "mimetype": "text/x-python",
   "name": "python",
   "nbconvert_exporter": "python",
   "pygments_lexer": "ipython3",
   "version": "3.11.9"
  }
 },
 "nbformat": 4,
 "nbformat_minor": 5
}
