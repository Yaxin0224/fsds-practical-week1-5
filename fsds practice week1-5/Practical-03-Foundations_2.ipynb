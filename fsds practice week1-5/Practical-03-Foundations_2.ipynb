{
 "cells": [
  {
   "cell_type": "markdown",
   "id": "a07c9312-bef9-4f76-82c3-eb5c188b5ebb",
   "metadata": {},
   "source": [
    "## Practical 3: Foundations (Part 2)\n",
    "\n",
    "Getting to grips with Dictionaries, LOLs and DOLs\n",
    "\n",
    "In this notebook we are exploring basic (in the sense of fundamental)\n",
    "data structures so that you understand both how to manage more complex\n",
    "types of data and are prepared for what we will encounter when we start\n",
    "using `pandas` to perform data analysis. To achieve that, you will need\n",
    "to be ‘fluent’ in “nested” lists and dictionaries; we will focus\n",
    "primarily on lists-of-lists and dictionaries-of-lists, but note that\n",
    "file formats like JSON can be understood as\n",
    "dictionaries-of-dictionaries-of-lists-of-… so this is just a *taster* of\n",
    "real-world data structures.\n",
    "\n",
    "> **Tip**\n",
    ">\n",
    "> You should download this notebook and then save it to your own copy of\n",
    "> the repository. Follow the process used *last* week\n",
    "> (i.e. `git add ...`, `git commit -m \"...\"`, `git push`) right away and\n",
    "> then do this again at the end of the class and you’ll have a record of\n",
    "> everything you did.\n",
    "\n",
    "## 1. From Lists to Data (Little Steps)\n",
    "\n",
    "We’re going to start off using lists and dictionaries that *we* define\n",
    "right at the start of the ‘program’, but the *real* value of these data\n",
    "structures comes when we build a list or dictionary *from* data such as\n",
    "a file or a web page… and that’s what we’re going to do below!\n",
    "\n",
    "First, here’s a reminder of some useful methods (*i.e.* functions) that\n",
    "apply to lists which we covered in the\n",
    "[lecture](https://jreades.github.io/fsds/sessions/week2.html#lectures)\n",
    "and\n",
    "[practical](https://jreades.github.io/fsds/sessions/week2.html#practical)\n",
    "in Week 2:\n",
    "\n",
    "| Method | Action |\n",
    "|--------------------|----------------------------------------------------|\n",
    "| `list.count(x)` | Return the number of times x appears in the list |\n",
    "| `list.insert(i, x)` | Insert value `x` at a given position `i` |\n",
    "| `list.pop([i])` | Remove and return the value at position `i` (`i` is optional) |\n",
    "| `list.remove(x)` | Remove the first element from the list whose value is `x` |\n",
    "| `list.reverse()` | Reverse the elements of the list in place |\n",
    "| `list.sort()` | Sort the items of the list in place |\n",
    "| `list.index(x)` | Find the first occurence of `x` in the list |\n",
    "| `list[x:y]` | Slice the list from index `x` to `y-1` |\n",
    "\n",
    "This should all be revision… because it’s how we finished things up\n",
    "*last week*. But I want to go over it *briefly* again because we’re\n",
    "going to build on it this week.\n",
    "\n",
    "> **Hint**\n",
    ">\n",
    "> As before, `??` will highlight where one or more bit of code are\n",
    "> missing and need to be filled in…\n",
    "\n",
    "### 1.1 List Refresher\n",
    "\n",
    "> **Difficulty: Low.**\n",
    "\n",
    "To complete these tasks, all of the methods that you need are listed\n",
    "above, so this is about testing yourself on your understanding *both* of\n",
    "how to read the help *and* how to index elements in a list.\n",
    "\n",
    "The next line creates a list of city names (each element is a string):"
   ]
  },
  {
   "cell_type": "code",
   "execution_count": 1,
   "id": "84fb0ac6",
   "metadata": {},
   "outputs": [],
   "source": [
    "cities = [\"Bristol\", \"London\", \"Manchester\", \"Edinburgh\", \"Belfast\", \"York\"]"
   ]
  },
  {
   "cell_type": "markdown",
   "id": "9150fed6-4311-413c-9e4f-54b1fd7d3a5e",
   "metadata": {},
   "source": [
    "#### 1.1.1 List Arithmetic\n",
    "\n",
    "Replace the `??` so that it prints `Belfast`.\n",
    "\n",
    "##### 1.1.1.1 Question"
   ]
  },
  {
   "cell_type": "code",
   "execution_count": 2,
   "id": "22f51c22-5abe-4676-8080-c230ecc6e943",
   "metadata": {},
   "outputs": [
    {
     "name": "stdout",
     "output_type": "stream",
     "text": [
      "Belfast\n"
     ]
    }
   ],
   "source": [
    "cities = [\"Bristol\", \"London\", \"Manchester\", \"Edinburgh\", \"Belfast\", \"York\"]\n",
    "print(cities[2 + 2])"
   ]
  },
  {
   "cell_type": "markdown",
   "id": "bd09d7dd-075b-4b90-8fea-5ecb824ab5a2",
   "metadata": {},
   "source": [
    "#### 1.1.2 Negative List Arithmetic\n",
    "\n",
    "Use a **negative** index to print `Belfast`:\n",
    "\n",
    "##### 1.1.2.1 Question"
   ]
  },
  {
   "cell_type": "code",
   "execution_count": 3,
   "id": "83f0cb77-8284-4b95-a906-4c3cb131d99c",
   "metadata": {},
   "outputs": [
    {
     "name": "stdout",
     "output_type": "stream",
     "text": [
      "Belfast\n"
     ]
    }
   ],
   "source": [
    "print(cities[-2])"
   ]
  },
  {
   "cell_type": "markdown",
   "id": "72838781-0598-4046-bc7d-522368c5df9e",
   "metadata": {},
   "source": [
    "#### 1.1.3 Finding a Position in a List\n",
    "\n",
    "Replace the `??` so that it prints the *index* for Manchester in the\n",
    "list.\n",
    "\n",
    "##### 1.1.3.1 Question"
   ]
  },
  {
   "cell_type": "code",
   "execution_count": 4,
   "id": "e3ca49e3-fce3-44c2-a706-9bad1162d4d6",
   "metadata": {},
   "outputs": [
    {
     "name": "stdout",
     "output_type": "stream",
     "text": [
      "The position of Manchester in the list is: 2\n"
     ]
    }
   ],
   "source": [
    "print(\"The position of Manchester in the list is: \" + str( cities.index('Manchester') ))"
   ]
  },
  {
   "cell_type": "markdown",
   "id": "4c3a80e5-a8b0-4766-befb-b4fe96c3b26d",
   "metadata": {},
   "source": [
    "### 1.2 Looking Across Lists\n",
    "\n",
    "> **Connections**\n",
    ">\n",
    "> This section draws on the\n",
    "> [LOLs](https://jreades.github.io/fsds/sessions/week3.html#lectures)\n",
    "> lecture and you will also find Code Camp’s\n",
    "> [Loops](https://jreades.github.io/code-camp/lessons/Loops.html)\n",
    "> session useful here.\n",
    "\n",
    "> **Difficulty: Medium.**\n",
    "\n",
    "Notice that the list of `temperatures` below is the same length as the\n",
    "list of `cities`, that’s because these are (roughly) the average\n",
    "temperatures for each city."
   ]
  },
  {
   "cell_type": "code",
   "execution_count": 5,
   "id": "8cb50326",
   "metadata": {},
   "outputs": [],
   "source": [
    "cities = [\"Bristol\", \"London\", \"Manchester\", \"Edinburgh\", \"Belfast\", \"York\"]\n",
    "temperatures = [15.6, 16.5, 13.4, 14.0, 15.2, 14.8]"
   ]
  },
  {
   "cell_type": "markdown",
   "id": "88a944b2-e320-462a-a049-30c872617311",
   "metadata": {},
   "source": [
    "#### 1.2.1 Lateral Thinking\n",
    "\n",
    "Given what you know about `cities` and `temperatures`, how do you print:\n",
    "\n",
    "> “The average temperature in Manchester is 13.4 degrees”\n",
    "\n",
    "But you have to do this *without* doing any of the following:\n",
    "\n",
    "1.  Using a list index directly (*i.e.* `cities[2]` and\n",
    "    `temperatures[2]`) or\n",
    "2.  Hard-coding the name of the city?\n",
    "\n",
    "To put it another way, **neither** of these solutions is the answer:\n",
    "\n",
    "``` python\n",
    "print(\"The average temperature in Manchester is \" + str(temperatures[2]) + \" degrees.\")\n",
    "# ...OR...\n",
    "city=2\n",
    "print(\"The average temperature in \" + cities[city] + \" is \" + str(temperatures[city]) + \" degrees.\")\n",
    "```\n",
    "\n",
    "> **Tip**\n",
    ">\n",
    "> You will need to combine some of the ideas above and also think about\n",
    "> the fact that the list index is that we need is the same in both\n",
    "> lists… Also, remember that you’ll need to wrap a `str(...)` around\n",
    "> your temperature to make it into a string.\n",
    "\n",
    "##### 1.2.1.1 Question"
   ]
  },
  {
   "cell_type": "code",
   "execution_count": 13,
   "id": "e5b32957-f222-48f1-ad69-a8087f7472cd",
   "metadata": {},
   "outputs": [
    {
     "name": "stdout",
     "output_type": "stream",
     "text": [
      "The average temperature in Manchester is 13.4 degrees.\n",
      "The average temperature in Manchester is 13.4degress.\n"
     ]
    }
   ],
   "source": [
    "cities = [\"Bristol\", \"London\", \"Manchester\", \"Edinburgh\", \"Belfast\", \"York\"]\n",
    "temperatures = [15.6, 16.5, 13.4, 14.0, 15.2, 14.8]\n",
    "city=\"Manchester\" # Use this to get the solution...\n",
    "index = cities.index(city)\n",
    "# This way is perfectly fine\n",
    "print(\"The average temperature in \" + city + \" is \" + str(temperatures[index]) + \" degrees.\")\n",
    "\n",
    "# This way is more Python 3 and a bit easier to read\n",
    "print(f\"The average temperature in {city} is {temperatures[index]}degress.\")"
   ]
  },
  {
   "cell_type": "markdown",
   "id": "2b049eff-1687-4f88-8560-3d398cc4c141",
   "metadata": {},
   "source": [
    "#### 1.2.2 Double-Checking Your Solution\n",
    "\n",
    "You’ll know that you got the ‘right’ answer to the question above if you\n",
    "can copy+paste your code and change only **one** thing in order to print\n",
    "out: “The average temperature in Belfast is 15.2 degrees”\n",
    "\n",
    "##### 1.2.2.1 Question"
   ]
  },
  {
   "cell_type": "code",
   "execution_count": 14,
   "id": "3ec934ab-9424-4ef1-a304-6d64c6fe516d",
   "metadata": {},
   "outputs": [
    {
     "name": "stdout",
     "output_type": "stream",
     "text": [
      "The average temperature in Belfast is 15.2degress.\n"
     ]
    }
   ],
   "source": [
    "city=\"Belfast\"\n",
    "index=cities.index(city)\n",
    "print(f\"The average temperature in {city} is {temperatures[index]}degress.\")"
   ]
  },
  {
   "cell_type": "markdown",
   "id": "a388ef45-7f14-4ac2-b0a1-724b214ece10",
   "metadata": {},
   "source": [
    "#### 1.2.3 Loops\n",
    "\n",
    "Now use a `for` loop over the cities to print out the average\n",
    "temperature in each city:\n",
    "\n",
    "##### 1.2.3.1 Question"
   ]
  },
  {
   "cell_type": "code",
   "execution_count": 16,
   "id": "80cf5168-00fe-4f7a-be3e-8b66161c4271",
   "metadata": {},
   "outputs": [
    {
     "name": "stdout",
     "output_type": "stream",
     "text": [
      "The average temperature in Bristol is 15.6\n",
      "The average temperature in London is 16.5\n",
      "The average temperature in Manchester is 13.4\n",
      "The average temperature in Edinburgh is 14.0\n",
      "The average temperature in Belfast is 15.2\n",
      "The average temperature in York is 14.8\n"
     ]
    }
   ],
   "source": [
    "for c in cities:\n",
    "    index = cities.index(c)\n",
    "    print(f\"The average temperature in {c} is {temperatures[index]}\")\n",
    "    "
   ]
  },
  {
   "cell_type": "markdown",
   "id": "ca3006bf-0c43-4d04-9512-97c01f68a2d6",
   "metadata": {},
   "source": [
    "The output should be:"
   ]
  },
  {
   "cell_type": "code",
   "execution_count": null,
   "id": "72f01269-8ec1-40cd-a3e9-7c87640318b5",
   "metadata": {},
   "outputs": [],
   "source": [
    "The average temperature in Bristol is 15.6\n",
    "The average temperature in London is 16.5\n",
    "The average temperature in Manchester is 13.4\n",
    "The average temperature in Edinburgh is 14.0\n",
    "The average temperature in Belfast is 15.2\n",
    "The average temperature in York is 14.8"
   ]
  },
  {
   "cell_type": "markdown",
   "id": "d6cafa76-b8b1-472c-8c69-01ff2a3cbbaf",
   "metadata": {},
   "source": [
    "## 2. Dictionaries\n",
    "\n",
    "> **Connections**\n",
    ">\n",
    "> This section draws on the\n",
    "> [Dictionaries](https://jreades.github.io/fsds/sessions/week3.html#lectures)\n",
    "> lecture and Code Camp\n",
    "> [Dictonaries](https://jreades.github.io/code-camp/lessons/Dicts.html)\n",
    "> session.\n",
    "\n",
    "> **Difficulty: Low.**\n",
    "\n",
    "Remember that dictionaries (a.k.a. dicts) are like lists in that they\n",
    "are [data\n",
    "structures](https://docs.python.org/2/tutorial/datastructures.html)\n",
    "containing multiple elements. A key difference between\n",
    "[dictionaries](https://docs.python.org/2/tutorial/datastructures.html#dictionaries)\n",
    "and [lists](https://docs.python.org/2/tutorial/introduction.html#lists)\n",
    "is that while elements in lists are ordered, dicts (in most programming\n",
    "languages, though not Python) are unordered. This means that whereas for\n",
    "lists we use integers as indexes to access elements, in dictonaries we\n",
    "use ‘keys’ (which can multiple different types; strings, integers,\n",
    "etc.). Consequently, an important concept for dicts is that of key-value\n",
    "pairs.\n",
    "\n",
    "### 2.1 Creating an Atlas\n",
    "\n",
    "The code below creates an Atlas using a dictionary. The dictionary `key`\n",
    "is a city name, and the `value` is the latitude, longitude, and main\n",
    "airport code."
   ]
  },
  {
   "cell_type": "code",
   "execution_count": 11,
   "id": "4249b83e",
   "metadata": {},
   "outputs": [],
   "source": [
    "cities = {\n",
    "    'San Francisco': [37.77, -122.43, 'SFO'],\n",
    "    'London': [51.51, -0.08, 'LDN'],\n",
    "    'Paris': [48.86,2.29, 'PAR'],\n",
    "    'Beijing': [39.92,116.40 ,'BEI'],\n",
    "}"
   ]
  },
  {
   "cell_type": "markdown",
   "id": "91c0c946-ed16-4ceb-9ce7-b49bd03bc9d4",
   "metadata": {},
   "source": [
    "#### 2.1.1 Adding to a Dict\n",
    "\n",
    "Add a record to the dictionary for Chennai ([data\n",
    "here](https://en.wikipedia.org/wiki/Chennai))\n",
    "\n",
    "##### 2.1.1.1 Question"
   ]
  },
  {
   "cell_type": "code",
   "execution_count": 19,
   "id": "09ab8ae9-a341-44bd-81af-9f66212ed185",
   "metadata": {},
   "outputs": [],
   "source": [
    "cities = {\n",
    "    'San Francisco': [37.77, -122.43, 'SFO'],\n",
    "    'London': [51.51, -0.08, 'LDN'],\n",
    "    'Paris': [48.86,2.29, 'PAR'],\n",
    "    'Beijing': [39.92,116.40 ,'BEI'],\n",
    "}\n",
    "cities['Chennai'] = [13.08, 80.27, 'MAA']"
   ]
  },
  {
   "cell_type": "markdown",
   "id": "c38ae581-9eb7-47b2-93a8-628916585371",
   "metadata": {},
   "source": [
    "#### 2.1.2 Accessing a Dict\n",
    "\n",
    "In *one* line of code, print out the airport code for Chennai (`MAA`):\n",
    "\n",
    "##### 2.1.2.1 Question"
   ]
  },
  {
   "cell_type": "code",
   "execution_count": 20,
   "id": "35ed9cd9-6e31-4e1d-9dbf-eb05c301886d",
   "metadata": {},
   "outputs": [
    {
     "name": "stdout",
     "output_type": "stream",
     "text": [
      "MAA\n"
     ]
    }
   ],
   "source": [
    "print(cities['Chennai'][2])"
   ]
  },
  {
   "cell_type": "markdown",
   "id": "d2441e11-3c57-4ba7-83ea-0f7952418c9c",
   "metadata": {},
   "source": [
    "### 2.2 Dealing With Errors\n",
    "\n",
    "Check you understand the difference between the following two blocks of\n",
    "code by running them."
   ]
  },
  {
   "cell_type": "code",
   "execution_count": 14,
   "id": "fe69f104",
   "metadata": {},
   "outputs": [
    {
     "name": "stdout",
     "output_type": "stream",
     "text": [
      "Error found\n",
      "'Berlin'"
     ]
    }
   ],
   "source": [
    "try:\n",
    "    print(cities['Berlin'])\n",
    "except KeyError as e:\n",
    "    print(\"Error found\")\n",
    "    print(e)"
   ]
  },
  {
   "cell_type": "code",
   "execution_count": 15,
   "id": "f3d0a79d",
   "metadata": {},
   "outputs": [
    {
     "name": "stdout",
     "output_type": "stream",
     "text": [
      "Not Found"
     ]
    }
   ],
   "source": [
    "try:\n",
    "    print(cities.get('Berlin','Not Found'))\n",
    "except KeyError as e:\n",
    "    print(\"Error found\")\n",
    "    print(e)"
   ]
  },
  {
   "cell_type": "markdown",
   "id": "38e724d5-b673-4557-bce5-fa6b8382a11b",
   "metadata": {},
   "source": [
    "Notice that trying to access a non-existent element of a dict triggers a\n",
    "`KeyError`, while asking the dict to `get` the *same element* does not,\n",
    "it simply returns `None`. Can you think why, depending on the\n",
    "situtation, *either* of these might be the ‘correct’ answer?\n",
    "\n",
    "### 2.3 Thinking Data\n",
    "\n",
    "This section makes use of both the\n",
    "[Dictionaries](https://jreades.github.io/fsds/sessions/week3.html#lectures)\n",
    "lecture and the [DOLs to\n",
    "Data](https://jreades.github.io/fsds/sessions/week3.html#lectures)\n",
    "lecture.\n",
    "\n",
    "> **Tip**\n",
    ">\n",
    "> In this section you’ll need to look up (i.e. Google) and make use of a\n",
    "> few new functions that apply to dictionaries: `<dictionary>.items()`,\n",
    "> `<dictionary>.keys()`. *Remember*: if in doubt, add `print(...)`\n",
    "> statements to see what is going on!\n",
    "\n",
    "#### 2.3.1 Iterating over a Dict\n",
    "\n",
    "Adapting the code below, print out the city name and airport code for\n",
    "every city in our Atlas.\n",
    "\n",
    "##### 2.3.1.1 Question"
   ]
  },
  {
   "cell_type": "code",
   "execution_count": 21,
   "id": "33b6cf85-0bbe-4c4f-9de6-3995ab629bc8",
   "metadata": {},
   "outputs": [
    {
     "name": "stdout",
     "output_type": "stream",
     "text": [
      "San Francisco -> SFO\n",
      "London -> LDN\n",
      "Paris -> PAR\n",
      "Beijing -> BEI\n",
      "Chennai -> MAA\n"
     ]
    }
   ],
   "source": [
    "for c in cities.keys():\n",
    "    airport_code = cities[c][2]\n",
    "    print(f'{c} -> {airport_code}')"
   ]
  },
  {
   "cell_type": "markdown",
   "id": "277d730d-68e7-44f1-9df3-8f82789f1dc1",
   "metadata": {},
   "source": [
    "The output should look something like this:"
   ]
  },
  {
   "cell_type": "code",
   "execution_count": null,
   "id": "a0e575ea-e5da-4993-8ef7-69c271b8a83d",
   "metadata": {},
   "outputs": [],
   "source": [
    "San Francisco -> SFO\n",
    "London -> LDN\n",
    "Paris -> PAR\n",
    "Beijing -> BEI\n",
    "Chennai -> MAA"
   ]
  },
  {
   "cell_type": "markdown",
   "id": "a32281af-f7ea-4ddf-8a77-2ff8c1a4131f",
   "metadata": {},
   "source": [
    "#### 2.3.2 More Complex Dicts\n",
    "\n",
    "How would your code need to change to produce the *same output* from\n",
    "this data structure:"
   ]
  },
  {
   "cell_type": "code",
   "execution_count": 17,
   "id": "1854edb2",
   "metadata": {},
   "outputs": [],
   "source": [
    "cities = {\n",
    "    'San Francisco': {\n",
    "        'lat': 37.77, \n",
    "        'lon': -122.43,\n",
    "        'airport': 'SFO'},\n",
    "    'London': {\n",
    "        'lat': 51.51, \n",
    "        'lon': -0.08, \n",
    "        'airport': 'LDN'},\n",
    "    'Paris': {\n",
    "        'lat': 48.86,\n",
    "        'lon': 2.29, \n",
    "        'airport': 'PAR'},\n",
    "    'Beijing': {\n",
    "        'lat': 39.92,\n",
    "        'lon': 116.40,\n",
    "        'airport': 'BEI'},\n",
    "    'Chennai': { \n",
    "        'lat': 13.08, \n",
    "        'lon': 80.28, \n",
    "        'airport': 'MAA'}\n",
    "}"
   ]
  },
  {
   "cell_type": "markdown",
   "id": "b99cc2c2-5d1a-4406-bf5c-14c0de58e7d5",
   "metadata": {},
   "source": [
    "##### 2.3.2.1 Question"
   ]
  },
  {
   "cell_type": "code",
   "execution_count": 27,
   "id": "97392b68-bdc7-4584-9a36-2ca340cff7e8",
   "metadata": {},
   "outputs": [
    {
     "name": "stdout",
     "output_type": "stream",
     "text": [
      "San Francisco is at latitude 37.77\n",
      "London is at latitude 51.51\n",
      "Paris is at latitude 48.86\n",
      "Beijing is at latitude 39.92\n",
      "Chennai is at latitude 13.08\n"
     ]
    }
   ],
   "source": [
    "cities = {\n",
    "    'San Francisco': {\n",
    "        'lat': 37.77, \n",
    "        'lon': -122.43,\n",
    "        'airport': 'SFO'},\n",
    "    'London': {\n",
    "        'lat': 51.51, \n",
    "        'lon': -0.08, \n",
    "        'airport': 'LDN'},\n",
    "    'Paris': {\n",
    "        'lat': 48.86,\n",
    "        'lon': 2.29, \n",
    "        'airport': 'PAR'},\n",
    "    'Beijing': {\n",
    "        'lat': 39.92,\n",
    "        'lon': 116.40,\n",
    "        'airport': 'BEI'},\n",
    "    'Chennai': { \n",
    "        'lat': 13.08, \n",
    "        'lon': 80.28, \n",
    "        'airport': 'MAA'}\n",
    "}\n",
    "for c in cities.keys():\n",
    "    latitude = cities[c]['lat']\n",
    "    print(f'{c} is at latitude {latitude}')"
   ]
  },
  {
   "cell_type": "markdown",
   "id": "9f7302af-9dde-48d1-8511-aa79fd68a89a",
   "metadata": {},
   "source": [
    "#### 2.3.3 More Dictionary Action!\n",
    "\n",
    "And how would it need to change to print out the name and latitude of\n",
    "every city?\n",
    "\n",
    "##### 2.3.3.1 Question"
   ]
  },
  {
   "cell_type": "code",
   "execution_count": 28,
   "id": "3c94aaae-22ca-4a4f-a0c7-2faea7f02770",
   "metadata": {},
   "outputs": [
    {
     "name": "stdout",
     "output_type": "stream",
     "text": [
      "San Francisco is at latitude 37.77\n",
      "London is at latitude 51.51\n",
      "Paris is at latitude 48.86\n",
      "Beijing is at latitude 39.92\n",
      "Chennai is at latitude 13.08\n"
     ]
    }
   ],
   "source": [
    "for c in cities.keys():\n",
    "    latitude = cities[c]['lat']\n",
    "    print(f'{c} is at latitude {latitude}')"
   ]
  },
  {
   "cell_type": "markdown",
   "id": "3c4ba1c0-7890-4daa-92e3-53aea5b0bfea",
   "metadata": {},
   "source": [
    "The output should be something like this:"
   ]
  },
  {
   "cell_type": "code",
   "execution_count": null,
   "id": "bfbccfa6-8336-42ae-b135-ff4dd88d4b92",
   "metadata": {},
   "outputs": [],
   "source": [
    "San Francisco is at latitude 37.77\n",
    "London is at latitude 51.51\n",
    "Paris is at latitude 48.86\n",
    "Beijing is at latitude 39.92\n",
    "Chennai is at latitude 13.08"
   ]
  },
  {
   "cell_type": "markdown",
   "id": "6652f752-6c9b-49b7-ae16-7a8b245aa6c6",
   "metadata": {},
   "source": [
    "#### 2.3.4 And Another Way to Use a Dict\n",
    "\n",
    "Now produce the *same output* using this new data structure:"
   ]
  },
  {
   "cell_type": "code",
   "execution_count": 21,
   "id": "6f44ee63",
   "metadata": {},
   "outputs": [],
   "source": [
    "cities_alt = [\n",
    "    {'name':     'San Francisco',\n",
    "     'position': [37.77, -122.43],\n",
    "     'airport':  'SFO'},\n",
    "    {'name':     'London',\n",
    "     'position': [51.51, -0.08],\n",
    "     'airport':  'LDN'},\n",
    "    {'name':     'Paris',\n",
    "     'position': [48.86, 2.29],\n",
    "     'airport':  'PAR'},\n",
    "    {'name':     'Beijing',\n",
    "     'position': [39.92, 116.40],\n",
    "     'airport':  'BEI'},\n",
    "    {'name':     'Chennai', \n",
    "     'position': [13.08, 80.28],\n",
    "      'airport': 'MAA'}\n",
    "]"
   ]
  },
  {
   "cell_type": "markdown",
   "id": "d0daaa76-2e72-4605-b8a2-5db3469bcf2b",
   "metadata": {},
   "source": [
    "##### 2.3.4.1 Question"
   ]
  },
  {
   "cell_type": "code",
   "execution_count": 31,
   "id": "2d00e4fc-1bc7-4177-b8bc-ac461031f3e7",
   "metadata": {},
   "outputs": [
    {
     "name": "stdout",
     "output_type": "stream",
     "text": [
      "San Francisco is at latitude 37.77\n",
      "London is at latitude 51.51\n",
      "Paris is at latitude 48.86\n",
      "Beijing is at latitude 39.92\n",
      "Chennai is at latitude 13.08\n"
     ]
    }
   ],
   "source": [
    "cities_alt = [\n",
    "    {'name': 'San Francisco', 'position': [37.77, -122.43], 'airport': 'SFO'},\n",
    "    {'name': 'London', 'position': [51.51, -0.08], 'airport': 'LDN'},\n",
    "    {'name': 'Paris', 'position': [48.86, 2.29], 'airport': 'PAR'},\n",
    "    {'name': 'Beijing', 'position': [39.92, 116.40], 'airport': 'BEI'},\n",
    "    {'name': 'Chennai', 'position': [13.08, 80.28], 'airport': 'MAA'},\n",
    "]\n",
    "\n",
    "for c in cities_alt:\n",
    "    name = c['name']\n",
    "    latitude = c['position'][0]\n",
    "    print(f\"{name} is at latitude {latitude}\")\n"
   ]
  },
  {
   "cell_type": "markdown",
   "id": "8e02810a-0abe-4629-93d5-977d1288eeae",
   "metadata": {},
   "source": [
    "The output should be something like this:"
   ]
  },
  {
   "cell_type": "code",
   "execution_count": null,
   "id": "f2c0975d-54d0-4e39-8576-7dc862d80ab8",
   "metadata": {},
   "outputs": [],
   "source": [
    "San Francisco is at latitude 37.77\n",
    "London is at latitude 51.51\n",
    "Paris is at latitude 48.86\n",
    "Beijing is at latitude 39.92\n",
    "Chennai is at latitude 13.08"
   ]
  },
  {
   "cell_type": "markdown",
   "id": "30d2e3a6-ee66-4652-90db-3ff0a9f37226",
   "metadata": {},
   "source": [
    "#### 2.3.5 Think Data!\n",
    "\n",
    "What are some of the main differences that you can think of between\n",
    "`cities` and `cities_alt` *as* data? There is no right answer.\n",
    "\n",
    "> **Tip**\n",
    ">\n",
    "> I just want you to think about these *as data*! If you were trying to\n",
    "> use `cities` and `cities_alt` as data what differences would you find\n",
    "> when accessing one or more ‘records’?\n",
    "\n",
    "-   Point 1 here.\n",
    "-   Point 2 here.\n",
    "-   Point 3 here.\n",
    "\n",
    "### 2.4 Add to Git/GitHub\n",
    "\n",
    "Now follow the same process that you used last week to ensure that your\n",
    "edited notebook is updated in Git and then synchronised with GitHub."
   ]
  }
 ],
 "metadata": {
  "kernelspec": {
   "display_name": "Python (base)",
   "language": "python",
   "name": "base"
  },
  "language_info": {
   "codemirror_mode": {
    "name": "ipython",
    "version": 3
   },
   "file_extension": ".py",
   "mimetype": "text/x-python",
   "name": "python",
   "nbconvert_exporter": "python",
   "pygments_lexer": "ipython3",
   "version": "3.11.9"
  }
 },
 "nbformat": 4,
 "nbformat_minor": 5
}
